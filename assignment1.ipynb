{
 "cells": [
  {
   "cell_type": "code",
   "execution_count": 39,
   "metadata": {},
   "outputs": [
    {
     "name": "stdout",
     "output_type": "stream",
     "text": [
      "        Twinkle, twinkle, little star,\n",
      "              How I wonder what you are!\n",
      "                  Up above the world so high,\n",
      "                  Like a diamond in the sky.\n",
      "        Twinkle, twinkle, little satr,\n",
      "               How I wonder what you are \n"
     ]
    }
   ],
   "source": [
    "# QNO 1\n",
    "# Weite a pytho program to print the following  string in a specific format ( see the  output )\n",
    "\n",
    "print(\"        Twinkle, twinkle, little star,\\n              How I wonder what you are!\\n                  Up above the world so high,\\n                  Like a diamond in the sky.\\n        Twinkle, twinkle, little satr,\\n               How I wonder what you are \")"
   ]
  },
  {
   "cell_type": "code",
   "execution_count": 40,
   "metadata": {},
   "outputs": [
    {
     "name": "stdout",
     "output_type": "stream",
     "text": [
      "Python version\n",
      "3.7.4 (default, Aug  9 2019, 18:34:13) [MSC v.1915 64 bit (AMD64)]\n",
      "Version info.\n",
      "sys.version_info(major=3, minor=7, micro=4, releaselevel='final', serial=0)\n"
     ]
    }
   ],
   "source": [
    "#  QNO 2\n",
    "#   write a python program to get the python version you are using\n",
    "\n",
    "\n",
    "import sys\n",
    "print(\"Python version\")\n",
    "print (sys.version)\n",
    "print(\"Version info.\")\n",
    "print (sys.version_info)"
   ]
  },
  {
   "cell_type": "code",
   "execution_count": 41,
   "metadata": {},
   "outputs": [
    {
     "name": "stdout",
     "output_type": "stream",
     "text": [
      "Current date and time Ghotki: \n",
      "2019-11-06 01:58:27\n"
     ]
    }
   ],
   "source": [
    "#  QNO 3\n",
    "#   write a python program to display the current date and time\n",
    "\n",
    "\n",
    "\n",
    "\n",
    "import datetime\n",
    "now = datetime.datetime.now()\n",
    "print (\"Current date and time Ghotki: \")\n",
    "print (now.strftime(\"%Y-%m-%d %H:%M:%S\"))\n"
   ]
  },
  {
   "cell_type": "code",
   "execution_count": 42,
   "metadata": {},
   "outputs": [
    {
     "name": "stdout",
     "output_type": "stream",
     "text": [
      "Input the radius of the circle : 3.5\n",
      "The area of the circle with radius 3.5 is: 38.48451000647496\n"
     ]
    }
   ],
   "source": [
    "# Qno 4\n",
    "# write a python program which accepts the radius of a circle from the user and compute the area.\n",
    "\n",
    "\n",
    "\n",
    "from math import pi\n",
    "r = float(input (\"Input the radius of the circle : \")) # here r is radius\n",
    "print (\"The area of the circle with radius \" + str(r) + \" is: \" + str(pi * r**2))\n"
   ]
  },
  {
   "cell_type": "code",
   "execution_count": 43,
   "metadata": {},
   "outputs": [
    {
     "name": "stdout",
     "output_type": "stream",
     "text": [
      "Input your First Name : Najeebullah\n",
      "Input your Last Name : Chachar\n",
      " Chachar Najeebullah\n"
     ]
    }
   ],
   "source": [
    "# Qno  5\n",
    "\"\"\"\" Write a Python program which accepts the user's \n",
    "       first and last name and print \n",
    "       them in reverse order with a space between them.\"\"\"\n",
    "\n",
    "\n",
    "f_name = input(\"Input your First Name : \")\n",
    "l_name = input(\"Input your Last Name : \")\n",
    "print (\" \" + l_name + \" \" + f_name)"
   ]
  },
  {
   "cell_type": "code",
   "execution_count": 44,
   "metadata": {},
   "outputs": [
    {
     "name": "stdout",
     "output_type": "stream",
     "text": [
      "enter a number :47\n",
      "enter a number :67\n",
      "sum of two numbers\n",
      "114\n"
     ]
    }
   ],
   "source": [
    "\n",
    "# Qno  6\n",
    "\"\"\"\" Write a Python program which take two input from user and print them addition.\"\"\"\n",
    "\n",
    "\n",
    "\n",
    "x=int(input(\"enter a number :\"))\n",
    "y=int(input(\"enter a number :\"))\n",
    "c=x+y\n",
    "print(\"sum of two numbers\")\n",
    "print(c)"
   ]
  },
  {
   "cell_type": "code",
   "execution_count": null,
   "metadata": {},
   "outputs": [],
   "source": []
  },
  {
   "cell_type": "code",
   "execution_count": null,
   "metadata": {},
   "outputs": [],
   "source": []
  }
 ],
 "metadata": {
  "kernelspec": {
   "display_name": "Python 3",
   "language": "python",
   "name": "python3"
  },
  "language_info": {
   "codemirror_mode": {
    "name": "ipython",
    "version": 3
   },
   "file_extension": ".py",
   "mimetype": "text/x-python",
   "name": "python",
   "nbconvert_exporter": "python",
   "pygments_lexer": "ipython3",
   "version": "3.7.4"
  }
 },
 "nbformat": 4,
 "nbformat_minor": 2
}
